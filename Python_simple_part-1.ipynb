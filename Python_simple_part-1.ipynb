{
 "cells": [
  {
   "cell_type": "code",
   "execution_count": 1,
   "id": "157cf015-3ca6-4f7c-9eb6-a3712a418eba",
   "metadata": {},
   "outputs": [],
   "source": [
    "## Python Basics Code"
   ]
  },
  {
   "cell_type": "code",
   "execution_count": 23,
   "id": "f40a735b-199c-406c-adf8-d55b23237172",
   "metadata": {},
   "outputs": [
    {
     "name": "stdout",
     "output_type": "stream",
     "text": [
      "5\n"
     ]
    }
   ],
   "source": [
    "a=2\n",
    "b=3\n",
    "c=a+b\n",
    "print(c)"
   ]
  },
  {
   "cell_type": "code",
   "execution_count": 25,
   "id": "73c19917-6a83-4e61-9cf3-c13cdf53bfce",
   "metadata": {},
   "outputs": [
    {
     "data": {
      "text/plain": [
       "int"
      ]
     },
     "execution_count": 25,
     "metadata": {},
     "output_type": "execute_result"
    }
   ],
   "source": [
    "type(c)"
   ]
  },
  {
   "cell_type": "code",
   "execution_count": 27,
   "id": "e99c2cab-e7d3-4b56-927e-f73e826f9c88",
   "metadata": {},
   "outputs": [],
   "source": [
    "d=True ##boolean"
   ]
  },
  {
   "cell_type": "code",
   "execution_count": 29,
   "id": "9687c664-3b78-4400-be95-0fbc232e034a",
   "metadata": {},
   "outputs": [
    {
     "data": {
      "text/plain": [
       "bool"
      ]
     },
     "execution_count": 29,
     "metadata": {},
     "output_type": "execute_result"
    }
   ],
   "source": [
    "type(d)"
   ]
  },
  {
   "cell_type": "code",
   "execution_count": 31,
   "id": "6c223832-c1d4-4f31-8c90-303e68f4dd14",
   "metadata": {},
   "outputs": [],
   "source": [
    "e=False ##boolean"
   ]
  },
  {
   "cell_type": "code",
   "execution_count": 33,
   "id": "ce551322-857e-46fb-988e-51396525cb4e",
   "metadata": {},
   "outputs": [
    {
     "data": {
      "text/plain": [
       "bool"
      ]
     },
     "execution_count": 33,
     "metadata": {},
     "output_type": "execute_result"
    }
   ],
   "source": [
    "type(e)"
   ]
  },
  {
   "cell_type": "code",
   "execution_count": 35,
   "id": "7acdd5b4-4901-495e-a0e4-a865bff47da0",
   "metadata": {},
   "outputs": [
    {
     "data": {
      "text/plain": [
       "1"
      ]
     },
     "execution_count": 35,
     "metadata": {},
     "output_type": "execute_result"
    }
   ],
   "source": [
    "True-False"
   ]
  },
  {
   "cell_type": "code",
   "execution_count": 37,
   "id": "6c122038-6af6-423b-8928-023385909294",
   "metadata": {},
   "outputs": [
    {
     "name": "stdout",
     "output_type": "stream",
     "text": [
      "True\n"
     ]
    }
   ],
   "source": [
    "print(True)"
   ]
  },
  {
   "cell_type": "code",
   "execution_count": 39,
   "id": "d26d5aeb-283d-40b2-b592-a70739c4ad6c",
   "metadata": {},
   "outputs": [
    {
     "ename": "ZeroDivisionError",
     "evalue": "division by zero",
     "output_type": "error",
     "traceback": [
      "\u001b[1;31m---------------------------------------------------------------------------\u001b[0m",
      "\u001b[1;31mZeroDivisionError\u001b[0m                         Traceback (most recent call last)",
      "Cell \u001b[1;32mIn[39], line 1\u001b[0m\n\u001b[1;32m----> 1\u001b[0m \u001b[38;5;28;01mTrue\u001b[39;00m\u001b[38;5;241m/\u001b[39m\u001b[38;5;28;01mFalse\u001b[39;00m\n",
      "\u001b[1;31mZeroDivisionError\u001b[0m: division by zero"
     ]
    }
   ],
   "source": [
    "True/False"
   ]
  },
  {
   "cell_type": "code",
   "execution_count": 53,
   "id": "8156a9a7-b74e-4c29-b8b7-e7f2f5e39b4b",
   "metadata": {},
   "outputs": [],
   "source": [
    "e = 4+7j  ## i is for imaginary number normally but j in python is representation of complex number"
   ]
  },
  {
   "cell_type": "code",
   "execution_count": 55,
   "id": "142948a1-cdff-46c8-b6a8-8125fbeebd22",
   "metadata": {},
   "outputs": [
    {
     "data": {
      "text/plain": [
       "complex"
      ]
     },
     "execution_count": 55,
     "metadata": {},
     "output_type": "execute_result"
    }
   ],
   "source": [
    "type(e)"
   ]
  },
  {
   "cell_type": "code",
   "execution_count": 58,
   "id": "fedcb039-f542-4df8-b3cb-62cde869d62f",
   "metadata": {},
   "outputs": [
    {
     "data": {
      "text/plain": [
       "4.0"
      ]
     },
     "execution_count": 58,
     "metadata": {},
     "output_type": "execute_result"
    }
   ],
   "source": [
    "e.real"
   ]
  },
  {
   "cell_type": "code",
   "execution_count": 60,
   "id": "93115b43-42b0-44c0-a15c-665b614a5f1e",
   "metadata": {},
   "outputs": [
    {
     "data": {
      "text/plain": [
       "7.0"
      ]
     },
     "execution_count": 60,
     "metadata": {},
     "output_type": "execute_result"
    }
   ],
   "source": [
    "e.imag"
   ]
  },
  {
   "cell_type": "code",
   "execution_count": 75,
   "id": "3003a696-7022-4b36-993c-cded86f4559e",
   "metadata": {},
   "outputs": [
    {
     "data": {
      "text/plain": [
       "\"lets do this and make sure we are going all the way to the end.\\n\\nlife is not simple and its a fact \\n\\nAin't this true\""
      ]
     },
     "execution_count": 75,
     "metadata": {},
     "output_type": "execute_result"
    }
   ],
   "source": [
    "\"\"\"lets do this and make sure we are going all the way to the end.\\n\n",
    "life is not simple and its a fact \\n\n",
    "Ain't this true\"\"\""
   ]
  },
  {
   "cell_type": "code",
   "execution_count": 83,
   "id": "794b9b62-f220-43a5-88a7-11a1ec1c8340",
   "metadata": {},
   "outputs": [
    {
     "name": "stdout",
     "output_type": "stream",
     "text": [
      "10Where\n",
      "10Where\n"
     ]
    }
   ],
   "source": [
    "## Typecast\n",
    "asm=\"Where\"\n",
    "t='10'+ asm ## concatination\n",
    "\n",
    "r=str(10)+asm\n",
    "print(t)\n",
    "print(r)"
   ]
  },
  {
   "cell_type": "code",
   "execution_count": 85,
   "id": "117f37d6-7f40-4c35-9783-eafbae30dac9",
   "metadata": {},
   "outputs": [
    {
     "name": "stdin",
     "output_type": "stream",
     "text": [
      " rushab\n"
     ]
    }
   ],
   "source": [
    "t=input()"
   ]
  },
  {
   "cell_type": "code",
   "execution_count": 87,
   "id": "c2c0dcd8-b1d3-4cfc-9530-93e9c1171860",
   "metadata": {},
   "outputs": [
    {
     "name": "stdout",
     "output_type": "stream",
     "text": [
      "rushab\n"
     ]
    }
   ],
   "source": [
    "print(t)"
   ]
  },
  {
   "cell_type": "code",
   "execution_count": null,
   "id": "8fae1634-560d-42e4-b510-d2a9c7fd5341",
   "metadata": {},
   "outputs": [],
   "source": []
  }
 ],
 "metadata": {
  "kernelspec": {
   "display_name": "Python 3 (ipykernel)",
   "language": "python",
   "name": "python3"
  },
  "language_info": {
   "codemirror_mode": {
    "name": "ipython",
    "version": 3
   },
   "file_extension": ".py",
   "mimetype": "text/x-python",
   "name": "python",
   "nbconvert_exporter": "python",
   "pygments_lexer": "ipython3",
   "version": "3.12.4"
  }
 },
 "nbformat": 4,
 "nbformat_minor": 5
}
