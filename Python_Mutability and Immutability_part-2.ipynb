{
 "cells": [
  {
   "cell_type": "code",
   "execution_count": 1,
   "id": "9f728a20-c7e8-4fcb-a52e-b6865e54c3c7",
   "metadata": {},
   "outputs": [],
   "source": [
    "s=\"Rushab\""
   ]
  },
  {
   "cell_type": "code",
   "execution_count": 5,
   "id": "7758d842-2d4b-4c2c-95e8-f91b7c20737b",
   "metadata": {},
   "outputs": [
    {
     "data": {
      "text/plain": [
       "'Rushab'"
      ]
     },
     "execution_count": 5,
     "metadata": {},
     "output_type": "execute_result"
    }
   ],
   "source": [
    "s "
   ]
  },
  {
   "cell_type": "code",
   "execution_count": 7,
   "id": "452f189e-1b31-4a01-b69b-46a5445b3164",
   "metadata": {},
   "outputs": [],
   "source": [
    "## In python if we talk about strings then the data are indexed starting from 0 to .....\n",
    "##  aand if we are trying to call a data from the end to the start then the indexing starts from -1"
   ]
  },
  {
   "cell_type": "code",
   "execution_count": 32,
   "id": "8bfc98b3-e12d-449a-bb0a-d5135f4ccf6b",
   "metadata": {},
   "outputs": [
    {
     "data": {
      "text/plain": [
       "[1, 2, 3, 5, 'rushab', 'Kumar', 'jha', True, (4+7j)]"
      ]
     },
     "execution_count": 32,
     "metadata": {},
     "output_type": "execute_result"
    }
   ],
   "source": [
    "## List they work on [] and are mutable\n",
    "l=[1,2,3,5,'rushab','Kumar','jha', True, 4+7j]\n",
    "l"
   ]
  },
  {
   "cell_type": "code",
   "execution_count": 13,
   "id": "d0ca08c7-1c0c-4981-a6c0-e0d338ae4ae6",
   "metadata": {},
   "outputs": [
    {
     "data": {
      "text/plain": [
       "list"
      ]
     },
     "execution_count": 13,
     "metadata": {},
     "output_type": "execute_result"
    }
   ],
   "source": [
    "type(l)"
   ]
  },
  {
   "cell_type": "code",
   "execution_count": 15,
   "id": "dd96650d-0388-4116-9b08-5cea4c09895c",
   "metadata": {},
   "outputs": [
    {
     "data": {
      "text/plain": [
       "True"
      ]
     },
     "execution_count": 15,
     "metadata": {},
     "output_type": "execute_result"
    }
   ],
   "source": [
    "l[7]"
   ]
  },
  {
   "cell_type": "code",
   "execution_count": 17,
   "id": "02e427b1-4224-4fb9-8e2e-65bc6c34f37c",
   "metadata": {},
   "outputs": [
    {
     "data": {
      "text/plain": [
       "True"
      ]
     },
     "execution_count": 17,
     "metadata": {},
     "output_type": "execute_result"
    }
   ],
   "source": [
    "l[-2]"
   ]
  },
  {
   "cell_type": "code",
   "execution_count": 19,
   "id": "942db94a-84a7-4250-8285-b2d57f0a4999",
   "metadata": {},
   "outputs": [
    {
     "data": {
      "text/plain": [
       "'jha'"
      ]
     },
     "execution_count": 19,
     "metadata": {},
     "output_type": "execute_result"
    }
   ],
   "source": [
    "l[6]"
   ]
  },
  {
   "cell_type": "code",
   "execution_count": 21,
   "id": "f4d0f05c-aca1-4f33-8eae-e9b7ff7fa0ba",
   "metadata": {},
   "outputs": [
    {
     "data": {
      "text/plain": [
       "'jha'"
      ]
     },
     "execution_count": 21,
     "metadata": {},
     "output_type": "execute_result"
    }
   ],
   "source": [
    "l[-3]"
   ]
  },
  {
   "cell_type": "code",
   "execution_count": 23,
   "id": "a8c55c74-508b-4447-96a9-6c49bee52a44",
   "metadata": {},
   "outputs": [],
   "source": [
    "l[-3]=\"super\""
   ]
  },
  {
   "cell_type": "code",
   "execution_count": 25,
   "id": "270a6a94-56e3-4ad5-bd82-0a0b8a8b1fbb",
   "metadata": {},
   "outputs": [
    {
     "data": {
      "text/plain": [
       "[1, 2, 3, 5, 'rushab', 'Kumar', 'super', True, (4+7j)]"
      ]
     },
     "execution_count": 25,
     "metadata": {},
     "output_type": "execute_result"
    }
   ],
   "source": [
    "l"
   ]
  },
  {
   "cell_type": "code",
   "execution_count": 27,
   "id": "cb4e1510-c24c-46d1-9a1f-8f04c68508f2",
   "metadata": {},
   "outputs": [],
   "source": [
    "l[-3]=\"jha\""
   ]
  },
  {
   "cell_type": "code",
   "execution_count": 30,
   "id": "fadfb176-070c-4f80-8281-a86031d70798",
   "metadata": {},
   "outputs": [
    {
     "data": {
      "text/plain": [
       "[1, 2, 3, 5, 'rushab', 'Kumar', 'jha', True, (4+7j)]"
      ]
     },
     "execution_count": 30,
     "metadata": {},
     "output_type": "execute_result"
    }
   ],
   "source": [
    "l"
   ]
  },
  {
   "cell_type": "code",
   "execution_count": 36,
   "id": "91589b62-8b2c-4f00-a239-15ceec2d42b7",
   "metadata": {},
   "outputs": [
    {
     "data": {
      "text/plain": [
       "'s'"
      ]
     },
     "execution_count": 36,
     "metadata": {},
     "output_type": "execute_result"
    }
   ],
   "source": [
    "s[2]"
   ]
  },
  {
   "cell_type": "code",
   "execution_count": 40,
   "id": "ac076cbb-f343-477a-8216-17089d4b4721",
   "metadata": {},
   "outputs": [
    {
     "ename": "TypeError",
     "evalue": "'str' object does not support item assignment",
     "output_type": "error",
     "traceback": [
      "\u001b[1;31m---------------------------------------------------------------------------\u001b[0m",
      "\u001b[1;31mTypeError\u001b[0m                                 Traceback (most recent call last)",
      "Cell \u001b[1;32mIn[40], line 1\u001b[0m\n\u001b[1;32m----> 1\u001b[0m s[\u001b[38;5;241m2\u001b[39m]\u001b[38;5;241m=\u001b[39m\u001b[38;5;124m'\u001b[39m\u001b[38;5;124mt\u001b[39m\u001b[38;5;124m'\u001b[39m\n",
      "\u001b[1;31mTypeError\u001b[0m: 'str' object does not support item assignment"
     ]
    }
   ],
   "source": [
    "s[2]='t' ##strings are immutable object"
   ]
  },
  {
   "cell_type": "code",
   "execution_count": null,
   "id": "23b178a3-ef78-4bdd-9aaf-148827516530",
   "metadata": {},
   "outputs": [],
   "source": []
  }
 ],
 "metadata": {
  "kernelspec": {
   "display_name": "Python 3 (ipykernel)",
   "language": "python",
   "name": "python3"
  },
  "language_info": {
   "codemirror_mode": {
    "name": "ipython",
    "version": 3
   },
   "file_extension": ".py",
   "mimetype": "text/x-python",
   "name": "python",
   "nbconvert_exporter": "python",
   "pygments_lexer": "ipython3",
   "version": "3.12.4"
  }
 },
 "nbformat": 4,
 "nbformat_minor": 5
}
